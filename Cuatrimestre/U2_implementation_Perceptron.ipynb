{
  "nbformat": 4,
  "nbformat_minor": 0,
  "metadata": {
    "colab": {
      "provenance": []
    },
    "kernelspec": {
      "name": "python3",
      "display_name": "Python 3"
    },
    "language_info": {
      "name": "python"
    }
  },
  "cells": [
    {
      "cell_type": "markdown",
      "source": [
        "# Perceptron intuition\n",
        "Several binary classifiers are learned under supervision using a linear machine learning technique called a perceptron. This method allows neural networks to prepare by learning new components and processing them one at a time. In this lesson, \"Perceptron in Machine Learning,\" we will go over a detailed explanation of Perceptron along with a synopsis of its core functions. Let's start with a quick synopsis of Perceptron."
      ],
      "metadata": {
        "id": "q1g1Dms4t0Dm"
      }
    },
    {
      "cell_type": "markdown",
      "source": [
        "# Pseudocode of the algorithm\n",
        "\n",
        "\n",
        "1.   Set the bias and weights to modest, random initial values.\n",
        "2.   For every training instance:\n",
        "    *   Subtract the bias term from the weighted sum of the inputs, which is z = w₁x₁ + w₂x₂ +... + wₙxₙ + b.\n",
        "3.   Use an activation function (a step function is common):\n",
        "    *   Predict class 1 if z > 0.\n",
        "    *   Predict class 0 if z <= 0.\n",
        "4.   Revise the mass values:\n",
        "    *   Do nothing if the forecast comes true.\n",
        "    *   Use the update rule to adjust the weights and bias if the prediction proves to be inaccurate.\n",
        "    *   For any weight wᵢ, wᵢ → wᵢ + α(y - Ϸ)xᵢ.\n",
        "    *   b ↞ b + α(y - Ϸ) to account for bias b.\n",
        "5.   Where y is the true label, Ϸ is the projected label, and α represents the learning rate.\n",
        "6.   For a predetermined number of iterations or until convergence, repeat steps two and three.\n",
        "7.   Initialize weights and bias to small random values\n",
        "8.   For each training example: Compute the weighted sum of inputs plus the bias term: z = w₁x₁ + w₂x₂ + ... + wₙxₙ + b Apply the activation function: If z > 0, predict class 1 If z ≤ 0, predict class 0.\n",
        "\n"
      ],
      "metadata": {
        "id": "OsBVPgD2t8io"
      }
    },
    {
      "cell_type": "markdown",
      "source": [
        "# Implementation"
      ],
      "metadata": {
        "id": "Jeyw0mgQvd6v"
      }
    },
    {
      "cell_type": "code",
      "source": [
        "import numpy as np\n",
        "import matplotlib.pyplot as plt"
      ],
      "metadata": {
        "id": "1UofW5rhviP0"
      },
      "execution_count": 1,
      "outputs": []
    },
    {
      "cell_type": "code",
      "source": [
        "class Perceptron:\n",
        "    def __init__(self, learning_rate=0.01, num_iterations=1000):\n",
        "        self.learning_rate = learning_rate\n",
        "        self.num_iterations = num_iterations\n",
        "\n",
        "    def fit(self, X, y):\n",
        "        self.weights = np.zeros(X.shape[1])\n",
        "        self.bias = 0\n",
        "\n",
        "        for _ in range(self.num_iterations):\n",
        "            for i in range(X.shape[0]):\n",
        "                y_pred = self.predict(X[i])\n",
        "                error = y[i] - y_pred\n",
        "                self.weights += self.learning_rate * error * X[i]\n",
        "                self.bias += self.learning_rate * error\n",
        "\n",
        "    def predict(self, x):\n",
        "        return 1 if np.dot(x, self.weights) + self.bias > 0 else 0\n",
        "\n",
        "    def plot_decision_boundary(self, X, y):\n",
        "        plt.figure(figsize=(8, 6))\n",
        "\n",
        "        plt.scatter(X[y == 0][:, 0], X[y == 0][:, 1], color='blue', label='Class 0')\n",
        "        plt.scatter(X[y == 1][:, 0], X[y == 1][:, 1], color='red', label='Class 1')\n",
        "\n",
        "        x_min, x_max = X[:, 0].min() - 0.1, X[:, 0].max() + 0.1\n",
        "        y_min, y_max = X[:, 1].min() - 0.1, X[:, 1].max() + 0.1\n",
        "\n",
        "        xx, yy = np.meshgrid(np.linspace(x_min, x_max, 100), np.linspace(y_min, y_max, 100))\n",
        "        Z = np.array([self.predict(x) for x in np.c_[xx.ravel(), yy.ravel()]])\n",
        "        Z = Z.reshape(xx.shape)\n",
        "\n",
        "        plt.contour(xx, yy, Z, colors=['black'], linewidths=1)\n",
        "        plt.xlabel('Feature 1')\n",
        "        plt.ylabel('Feature 2')\n",
        "        plt.legend(loc='upper right')\n",
        "        plt.title('Perceptron Decision Boundary')\n",
        "        plt.show()"
      ],
      "metadata": {
        "id": "sUcFD8cYvkxu"
      },
      "execution_count": 2,
      "outputs": []
    },
    {
      "cell_type": "markdown",
      "source": [
        "# Perceptron Class Definition:\n",
        "\n",
        "*   The Perceptron class is defined by the two properties, num_iterations and learning_rate.\n",
        "*   Learning_rate controls the step size while changing weights during training.\n",
        "*   Num_iterations specifies how many times the algorithm runs over the training set."
      ],
      "metadata": {
        "id": "u8pAfLhSvrGm"
      }
    },
    {
      "cell_type": "markdown",
      "source": [
        "# Model Training (fit method):\n",
        "\n",
        "\n",
        "*   The algorithm goes over the data for the predetermined number of times, changing bias and weights with each iteration based on prediction mistakes.\n",
        "*   For training, the fit approach uses the input characteristics X and the matching target labels y.\n",
        "*   The bias and weights are initialized.\n",
        "\n",
        "\n"
      ],
      "metadata": {
        "id": "Vdi4cTwbv451"
      }
    },
    {
      "cell_type": "markdown",
      "source": [
        "# Prediction\n",
        "\n",
        "\n",
        "*   The input vector x is used with the predict algorithm.\n",
        "*   After adding the bias and computing the dot product of the input characteristics and weights, it determines if the outcome is larger than zero.\n",
        "*   It predicts class 1 if true, and class 0 if false.\n"
      ],
      "metadata": {
        "id": "v9Le1hyTwLC6"
      }
    },
    {
      "cell_type": "markdown",
      "source": [
        "# Decision Boundary Plotting (plot_decision_boundary method):\n",
        "\n",
        "\n",
        "*   This method displays the decision boundary of the perceptron using a 2D feature space.\n",
        "*   A scatter plot is created using the data points, showing class 0 in blue and class 1 in red.\n",
        "*   The decision boundary is then computed and shown based on the model's predictions."
      ],
      "metadata": {
        "id": "fhTh6RaCwXGe"
      }
    },
    {
      "cell_type": "code",
      "source": [
        "X = np.array([[2, 3], [1, 2], [3, 3], [5, 5], [6, 5], [3, 6]])\n",
        "y = np.array([0, 0, 0, 1, 1, 1])"
      ],
      "metadata": {
        "id": "0CxVJIvhwny7"
      },
      "execution_count": 3,
      "outputs": []
    },
    {
      "cell_type": "code",
      "source": [
        "perceptron = Perceptron(learning_rate=0.1, num_iterations=1000)\n",
        "perceptron.fit(X, y)\n",
        "perceptron.plot_decision_boundary(X, y)"
      ],
      "metadata": {
        "colab": {
          "base_uri": "https://localhost:8080/",
          "height": 564
        },
        "id": "t3LihONSwqYY",
        "outputId": "11298c21-da06-4a2d-e56e-4a5447c55f95"
      },
      "execution_count": 4,
      "outputs": [
        {
          "output_type": "display_data",
          "data": {
            "text/plain": [
              "<Figure size 800x600 with 1 Axes>"
            ],
            "image/png": "[encoded data removed]"
          },
          "metadata": {}
        }
      ]
    },
    {
      "cell_type": "markdown",
      "source": [
        "We depict the decition boundary that the perceptron has learnt as well as give the parameters of the learning model—in this example, a learning rate of 1.\n",
        "\n",
        "The core perceptron implementation is provided by the fit and forecast algorithms. The fit strategy adjusts the forecasts depending on error, whereas the forecast technique uses these weights and bias to produce predictions."
      ],
      "metadata": {
        "id": "2xh2e9zDwunb"
      }
    },
    {
      "cell_type": "markdown",
      "source": [
        "# Loss + Optimization function.\n",
        "The Perceptron method is typically not associated with an optimization function and loss function in the same way as certain other machine learning methods, such as gradient descent-based neural network training approaches or linear regression."
      ],
      "metadata": {
        "id": "_w3WXSOyw0PF"
      }
    },
    {
      "cell_type": "markdown",
      "source": [
        "**Loss function:**\n",
        "\n",
        "*   The learning procedure in conventional machine learning algorithms, such as the Perceptron, is not predicated on minimizing a continuous loss function. Rather, it functions by discretely updating the weights and bias of the model depending on the accuracy of a prediction.\n",
        "*   The Perceptron's update rule is straightforward: if the forecast is accurate, there is no update; if the prediction is off, the weights are modified using the input characteristics and a specified learning rate.\n",
        "*   Unlike in gradient-based optimization, there isn't a continuously differentiable loss function.\n",
        "\n",
        "**Optimization function:**\n",
        "*   Unlike gradient-based methods, the Perceptron does not require an explicit optimization function. Reducing a cost function does not involve calculating gradients and following protocols.\n",
        "*   The Perceptron updates weights repeatedly until a decision boundary is created in order to find a hyperplane that separates the classes."
      ],
      "metadata": {
        "id": "A4WbWcVjw8U3"
      }
    }
  ]
}