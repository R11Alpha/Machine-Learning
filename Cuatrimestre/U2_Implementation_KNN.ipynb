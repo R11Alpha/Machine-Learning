{
  "nbformat": 4,
  "nbformat_minor": 0,
  "metadata": {
    "colab": {
      "provenance": []
    },
    "kernelspec": {
      "name": "python3",
      "display_name": "Python 3"
    },
    "language_info": {
      "name": "python"
    }
  },
  "cells": [
    {
      "cell_type": "markdown",
      "source": [
        "# Algorithm Explanation\n",
        "The supervised learning technique known as K-Nearest Neighbors (KNN) algorithm is applied to both regression and classification. Simple logic underlies KNN: given a data point, find the \"k\" training points in the feature space that are closest to it. In classification, the point is then assigned to the category that its neighbors share the most instances of, and in regression, the average (or weighted) value of the neighbors' values represents the anticipated value.\n"
      ],
      "metadata": {
        "id": "m8xy1TWDqxDd"
      }
    },
    {
      "cell_type": "markdown",
      "source": [
        "# Algorithm Pseudocode\n",
        "\n",
        "\n",
        "*   Add features (X) and matching labels (y) to the dataset.\n",
        "*   Every point inside the dataset is:\n",
        "      1.   Utilizing a distance metric (such as the Euclidean distance), determine the distance between the point and the test data.\n",
        "      2.   Keep the distance and the matching label stored together.\n",
        "*   The distances are saved and sorted in increasing order.\n",
        "*   Select the top 'k' distances.\n",
        "*   Determine the most common label among the selected 'k' distances.\n",
        "*   Assign this label to the test data as the predicted class.\n"
      ],
      "metadata": {
        "id": "r2L_6YcvrKIi"
      }
    },
    {
      "cell_type": "markdown",
      "source": [
        "# Implementation of the Algorithm"
      ],
      "metadata": {
        "id": "AndrdyWcsG0q"
      }
    },
    {
      "cell_type": "code",
      "source": [
        "import pandas as pd\n",
        "\n",
        "data_set = {'Weight': [48,64,69,63,65,56,58,57,55], 'Height': [167, 182, 176, 173, 172, 180, 169, 173, 171], 'Class':['Underweight', 'Normal', 'Normal', 'Normal', 'Normal','Underweight', 'Normal', 'Normal', 'Normal']}\n",
        "\n",
        "df = pd.DataFrame(data_set)\n",
        "\n",
        "print(df)"
      ],
      "metadata": {
        "colab": {
          "base_uri": "https://localhost:8080/"
        },
        "id": "bApF9gqPsN4M",
        "outputId": "da9816f2-943b-42a5-883f-56ab1d743af0"
      },
      "execution_count": 3,
      "outputs": [
        {
          "output_type": "stream",
          "name": "stdout",
          "text": [
            "   Weight  Height        Class\n",
            "0      48     167  Underweight\n",
            "1      64     182       Normal\n",
            "2      69     176       Normal\n",
            "3      63     173       Normal\n",
            "4      65     172       Normal\n",
            "5      56     180  Underweight\n",
            "6      58     169       Normal\n",
            "7      57     173       Normal\n",
            "8      55     171       Normal\n"
          ]
        }
      ]
    },
    {
      "cell_type": "code",
      "source": [
        "import numpy as np\n",
        "import matplotlib.pyplot as plt\n",
        "\n",
        "x_test = np.array([59, 172])\n",
        "k = 3\n",
        "\n",
        "df['Distance'] = np.sqrt((df['Weight'] - x_test[0])**2 + (df['Height'] - x_test[1])**2)\n",
        "nearest_neighbors = df.nsmallest(k, 'Distance')\n",
        "\n",
        "predicted_class = nearest_neighbors['Class'].mode()[0]\n",
        "\n",
        "plt.scatter(df[df['Class']=='Underweight']['Weight'], df[df['Class']=='Underweight']['Height'], color='blue', label='Underweight')\n",
        "plt.scatter(df[df['Class']=='Normal']['Weight'], df[df['Class']=='Normal']['Height'], color='red', label='Normal')\n",
        "plt.scatter(x_test[0], x_test[1], color='green', label='Test Point')\n",
        "plt.legend()\n",
        "\n",
        "plt.title(f'Predicted Class: {predicted_class}')\n",
        "plt.xlabel('Weight')\n",
        "plt.ylabel('Height')\n",
        "plt.show()\n",
        "\n",
        "print(f'Predicted Class: {predicted_class}')"
      ],
      "metadata": {
        "colab": {
          "base_uri": "https://localhost:8080/",
          "height": 489
        },
        "id": "zav8kX1msskj",
        "outputId": "714590b8-6cb1-4433-85c5-dea7dc7eeb4d"
      },
      "execution_count": 4,
      "outputs": [
        {
          "output_type": "display_data",
          "data": {
            "text/plain": [
              "<Figure size 640x480 with 1 Axes>"
            ],
            "image/png": "[encoded data removed]"
          },
          "metadata": {}
        },
        {
          "output_type": "stream",
          "name": "stdout",
          "text": [
            "Predicted Class: Normal\n"
          ]
        }
      ]
    },
    {
      "cell_type": "markdown",
      "source": [
        "# Loss function and optimization function\n",
        "The KNN method has no parameters that need to be adjusted, in contrast to models with changeable parameters (such neural networks and linear regression). Neural networks and gradient-based models are two examples of algorithms that are closely linked to loss functions and optimization algorithms. These algorithms adjust to new data by varying parameters."
      ],
      "metadata": {
        "id": "JLcfzzcgs1OC"
      }
    },
    {
      "cell_type": "markdown",
      "source": [
        "# (KNN): K-Nearest Neighbors\n",
        "\n",
        "*   KNN is an instance-based algorithm. It doesn't use the data to determine specific weights or characteristics.\n",
        "*   The model does not alter internal parameters throughout the training process in order to lower a loss function. Rather, it learns the training set by heart and classifies fresh data by comparing it to the training set.\n",
        "*   KNN lacks a precise grasp of loss since it does not do optimization in the same way as models with changeable parameters."
      ],
      "metadata": {
        "id": "Nyfkty-4tA8D"
      }
    },
    {
      "cell_type": "markdown",
      "source": [
        "# Algorithms for optimization and loss functions\n",
        "\n",
        "\n",
        "*   Loss functions are used by algorithms whose parameters (like neural networks and linear regression) must be learned from data.\n",
        "*   These parameters are adjusted by optimization techniques (like Gradient Descent) in order to minimize the loss function.\n",
        "\n"
      ],
      "metadata": {
        "id": "3fiNAcRhtRg8"
      }
    }
  ]
}